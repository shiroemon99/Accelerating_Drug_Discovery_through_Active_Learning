{
  "nbformat": 4,
  "nbformat_minor": 0,
  "metadata": {
    "colab": {
      "provenance": [],
      "machine_shape": "hm"
    },
    "kernelspec": {
      "name": "python3",
      "display_name": "Python 3"
    },
    "language_info": {
      "name": "python"
    },
    "gpuClass": "premium"
  },
  "cells": [
    {
      "cell_type": "code",
      "execution_count": null,
      "metadata": {
        "id": "P5YI1UB9roJM",
        "colab": {
          "base_uri": "https://localhost:8080/"
        },
        "outputId": "9bccd292-7c21-45f3-8f2d-813a543c4fe4"
      },
      "outputs": [
        {
          "output_type": "stream",
          "name": "stdout",
          "text": [
            "/bin/bash: /usr/local/lib/libtinfo.so.5: no version information available (required by /bin/bash)\n",
            "Traceback (most recent call last):\n",
            "  File \"/usr/local/bin/pip\", line 7, in <module>\n",
            "    from pip import main\n",
            "ImportError: No module named pip\n",
            "/bin/bash: /usr/local/lib/libtinfo.so.5: no version information available (required by /bin/bash)\n",
            "Traceback (most recent call last):\n",
            "  File \"/usr/local/bin/pip\", line 7, in <module>\n",
            "    from pip import main\n",
            "ImportError: No module named pip\n",
            "/bin/bash: /usr/local/lib/libtinfo.so.5: no version information available (required by /bin/bash)\n",
            "Traceback (most recent call last):\n",
            "  File \"/usr/local/bin/pip\", line 7, in <module>\n",
            "    from pip import main\n",
            "ImportError: No module named pip\n",
            "/bin/bash: /usr/local/lib/libtinfo.so.5: no version information available (required by /bin/bash)\n",
            "Traceback (most recent call last):\n",
            "  File \"/usr/local/bin/pip\", line 7, in <module>\n",
            "    from pip import main\n",
            "ImportError: No module named pip\n",
            "/bin/bash: /usr/local/lib/libtinfo.so.5: no version information available (required by /bin/bash)\n",
            "Traceback (most recent call last):\n",
            "  File \"/usr/local/bin/pip\", line 7, in <module>\n",
            "    from pip import main\n",
            "ImportError: No module named pip\n",
            "/bin/bash: /usr/local/lib/libtinfo.so.5: no version information available (required by /bin/bash)\n",
            "Traceback (most recent call last):\n",
            "  File \"/usr/local/bin/pip\", line 7, in <module>\n",
            "    from pip import main\n",
            "ImportError: No module named pip\n"
          ]
        }
      ],
      "source": [
        "# Install py3Dmol using pip\n",
        "!pip install py3Dmol\n",
        "# Install biopython using pip\n",
        "!pip install biopython\n",
        "# Install pdb2pqr v3.0 using pip\n",
        "!pip install pdb2pqr\n",
        "# We will also install kora for using RDkit\n",
        "!pip install kora\n",
        "# Install vina usiung pip\n",
        "!pip install vina\n",
        "# Install meeko using pip\n",
        "!pip install meeko"
      ]
    },
    {
      "cell_type": "code",
      "source": [
        "#Install conda using the new conda-colab library\n",
        "!pip install -q condacolab\n",
        "import condacolab\n",
        "condacolab.install_miniconda()\n",
        "\n",
        "#Install MGLtools and OpenBabel from\n",
        "#the bioconda repository\n",
        "!conda install -c conda-forge -c bioconda mgltools openbabel zlib --yes"
      ],
      "metadata": {
        "colab": {
          "base_uri": "https://localhost:8080/"
        },
        "id": "pnHjdpoyz_Rn",
        "outputId": "8f2ddd5a-5707-4cbd-f440-5d5b302f5242"
      },
      "execution_count": null,
      "outputs": [
        {
          "output_type": "stream",
          "name": "stdout",
          "text": [
            "/bin/bash: /usr/local/lib/libtinfo.so.5: no version information available (required by /bin/bash)\n",
            "Traceback (most recent call last):\n",
            "  File \"/usr/local/bin/pip\", line 7, in <module>\n",
            "    from pip import main\n",
            "ImportError: No module named pip\n",
            "✨🍰✨ Everything looks OK!\n",
            "/bin/bash: /usr/local/lib/libtinfo.so.5: no version information available (required by /bin/bash)\n",
            "Traceback (most recent call last):\n",
            "  File \"/usr/local/bin/conda\", line 14, in <module>\n",
            "    from conda.cli import main\n",
            "ImportError: No module named conda.cli\n"
          ]
        }
      ]
    },
    {
      "cell_type": "code",
      "source": [
        "import os\n",
        "os.cpu_count()"
      ],
      "metadata": {
        "colab": {
          "base_uri": "https://localhost:8080/"
        },
        "id": "21VsBjYJQ-wS",
        "outputId": "aea514be-9007-4add-cd28-7f664ad89201"
      },
      "execution_count": null,
      "outputs": [
        {
          "output_type": "execute_result",
          "data": {
            "text/plain": [
              "8"
            ]
          },
          "metadata": {},
          "execution_count": 3
        }
      ]
    },
    {
      "cell_type": "code",
      "source": [
        "#Downloading the PDB files using biopython\n",
        "import os\n",
        "from Bio.PDB import *\n",
        "pdbid = ['1t5c']\n",
        "pdbl = PDBList()\n",
        "for s in pdbid:\n",
        "  pdbl.retrieve_pdb_file(s, pdir='.', file_format =\"pdb\", overwrite=True)\n",
        "  os.rename(\"pdb\"+s+\".ent\", s+\".pdb\")"
      ],
      "metadata": {
        "id": "iOlIjFEg2xNU",
        "colab": {
          "base_uri": "https://localhost:8080/"
        },
        "outputId": "8d67fc8e-6fc9-4298-ad99-9101cb400d81"
      },
      "execution_count": null,
      "outputs": [
        {
          "output_type": "stream",
          "name": "stdout",
          "text": [
            "Downloading PDB structure '1t5c'...\n"
          ]
        }
      ]
    },
    {
      "cell_type": "code",
      "source": [
        "#This script will create a folder called \"single-docking\" for our experiment\n",
        "#Then, it will print all \"ATOM\" and \"TER\" lines from a given PDB into a new file\n",
        "\n",
        "#Let's make a folder first. We need to import the os and path library\n",
        "import os\n",
        "from pathlib import Path \n",
        "\n",
        "#Then, we define the path of the folder we want to create.\n",
        "#Notice that the HOME folder for a hosted runtime in colab is /content/\n",
        "crosspath = Path(\"/content/cross-dock/\")\n",
        "\n",
        "#Now, we create the folder using the os.mkdir() command\n",
        "#The if conditional is just to check whether the folder already exists\n",
        "#In which case, python returns an error\n",
        "if os.path.exists(crosspath):\n",
        "  print(\"path already exists\")\n",
        "if not os.path.exists(crosspath):\n",
        "  os.mkdir(crosspath)\n",
        "  print(\"path was succesfully created\")\n",
        "\n",
        "#Now we assign a variable \"protein\" with the name and extension of our pdb\n",
        "protein = \"1t5c.pdb\"\n",
        "\n",
        "#And we use the following script to selectively print the lines that contain the\n",
        "#string \"ATOM\" and \"TER\" into a new file inside our recently created folder\n",
        "with open(crosspath / \"1t5c_prot.pdb\",\"w\") as g:\n",
        "  f = open(protein,'r')\n",
        "  for line in f:\n",
        "    row = line.split()\n",
        "    if row[0] == \"ATOM\": # and row[4] == \"A\":\n",
        "      g.write(line)\n",
        "    elif row[0] == \"TER\":\n",
        "      g.write(\"TER\\n\")\n",
        "  g.write(\"END\")\n",
        "  print(\"file successfully created\")"
      ],
      "metadata": {
        "id": "2Y70HjLf5VpM",
        "colab": {
          "base_uri": "https://localhost:8080/"
        },
        "outputId": "b294a39d-0d4d-45b3-d3e7-bde9d165bfdf"
      },
      "execution_count": null,
      "outputs": [
        {
          "output_type": "stream",
          "name": "stdout",
          "text": [
            "path already exists\n",
            "file successfully created\n"
          ]
        }
      ]
    },
    {
      "cell_type": "code",
      "source": [
        "#Let's make a folder first. We need to import the os and path library\n",
        "import os\n",
        "from pathlib import Path\n",
        "\n",
        "#We will first create a path for all ligands that we will use in this tutorial\n",
        "#Notice that the HOME folder for a hosted runtime in colab is /content/\n",
        "ligandpath = Path(\"/content/ligands/\")\n",
        "\n",
        "#Now, we create the folder using the os.mkdir() command\n",
        "#The if conditional is just to check whether the folder already exists\n",
        "#In which case, python returns an error\n",
        "if os.path.exists(ligandpath):\n",
        "  print(\"ligand path already exists\")\n",
        "if not os.path.exists(ligandpath):\n",
        "  os.mkdir(ligandpath)\n",
        "  print(\"ligand path was succesfully created\")"
      ],
      "metadata": {
        "colab": {
          "base_uri": "https://localhost:8080/"
        },
        "id": "zrKnBOltCZa0",
        "outputId": "e5371aee-248f-4b6f-d52f-e035b2f646d9"
      },
      "execution_count": null,
      "outputs": [
        {
          "output_type": "stream",
          "name": "stdout",
          "text": [
            "ligand path already exists\n"
          ]
        }
      ]
    },
    {
      "cell_type": "code",
      "source": [
        "#Downloading NExT 3500 diversity library from uploaded file in sdf format\n",
        "from google.colab import drive\n",
        "drive.mount('/content/drive')\n",
        "\n",
        "# Test code\n",
        "# !cp 'drive/MyDrive/test.sdf' $ligandpath\n",
        "\n",
        "!cp 'drive/MyDrive/test.sdf' $ligandpath"
      ],
      "metadata": {
        "colab": {
          "base_uri": "https://localhost:8080/"
        },
        "id": "A4ud1NztCclR",
        "outputId": "4f4c46ce-7646-4fbf-fe45-06ef121b9442"
      },
      "execution_count": null,
      "outputs": [
        {
          "output_type": "stream",
          "name": "stdout",
          "text": [
            "Drive already mounted at /content/drive; to attempt to forcibly remount, call drive.mount(\"/content/drive\", force_remount=True).\n",
            "/bin/bash: /usr/local/lib/libtinfo.so.5: no version information available (required by /bin/bash)\n"
          ]
        }
      ]
    },
    {
      "cell_type": "code",
      "source": [
        "# Prepare the protein and ligands\n",
        "import subprocess\n",
        "\n",
        "# subprocess.run(['prepare_receptor4.py', '-r', '/content/cross-dock/1t5c_prot.pdb', \n",
        "#                 '-o', '/content/cross-dock/1t5c_prot.pdbqt', \n",
        "#                 '-A', 'hydrogens', '-U', 'nphs_lps', '-v'])    # causing unknown parsing error\n",
        "# subprocess.call(f'prepare_receptor4.py -r /content/cross-dock/1t5c_prot.pdb \n",
        "#                   -o /content/cross-dock/1t5c_prot.pdbqt -A hydrogens -U nphs_lps -v', \n",
        "#                 shell = True)    # old version\n",
        "subprocess.run(['pdb2pqr30', '--ff', 'AMBER', '--keep-chain', \n",
        "                '--titration-state-method', \n",
        "                'propka', '--with-ph', '7.4', \n",
        "                '/content/cross-dock/1t5c_prot.pdb', \n",
        "                '/content/cross-dock/1t5c_prot.pqr'])\n",
        "subprocess.run(['prepare_receptor4.py', '-r', '/content/cross-dock/1t5c_prot.pqr', \n",
        "                '-o', '/content/cross-dock/1t5c_prot.pdbqt', '-C', '-U', 'nphs_lps', '-v'])"
      ],
      "metadata": {
        "id": "jWuBf3fT5YyN",
        "colab": {
          "base_uri": "https://localhost:8080/"
        },
        "outputId": "9253bb62-781b-42a5-adaf-fdcbb463a654"
      },
      "execution_count": null,
      "outputs": [
        {
          "output_type": "execute_result",
          "data": {
            "text/plain": [
              "CompletedProcess(args=['prepare_receptor4.py', '-r', '/content/cross-dock/1t5c_prot.pqr', '-o', '/content/cross-dock/1t5c_prot.pdbqt', '-C', '-U', 'nphs_lps', '-v'], returncode=0)"
            ]
          },
          "metadata": {},
          "execution_count": 8
        }
      ]
    },
    {
      "cell_type": "code",
      "source": [
        "import kora.install.rdkit\n",
        "from rdkit import Chem\n",
        "\n",
        "# Import sdf file\n",
        "sdf_path = \"/content/ligands/test.sdf\"\n",
        "# sdf_path = \"/content/ligands/Diversity_3500_Library_modified.sdf\"\n",
        "\n",
        "# Read sdf by rdkit\n",
        "suppl = Chem.SDMolSupplier(sdf_path, removeHs = False)\n",
        "mols_info = []\n",
        "for mol in suppl:\n",
        "  mol_id = mol.GetProp('COMPOUND_ID')\n",
        "  smi = mol.GetProp('SMILES')\n",
        "  mols_info.append([mol, mol_id, smi])"
      ],
      "metadata": {
        "id": "d-RRtX6sU2Rs"
      },
      "execution_count": null,
      "outputs": []
    },
    {
      "cell_type": "code",
      "source": [
        "from vina import Vina\n",
        "from rdkit.Chem.rdMolTransforms import ComputeCentroid\n",
        "\n",
        "s = open(\"/content/scores.txt\", \"w\")\n",
        "\n",
        "# Cross docking function\n",
        "def docking(mol_info):\n",
        "\n",
        "  s = open(\"/content/scores.txt\", \"a\")\n",
        "\n",
        "  # Acquire mol data and compute centroid of ligand compound\n",
        "  mol = mol_info[0]\n",
        "  centroid = ComputeCentroid(mol.GetConformer())\n",
        "\n",
        "  # Acquire compound id and smiles string\n",
        "  mol_id = mol_info[1]\n",
        "  smi = mol_info[2]\n",
        "\n",
        "  # Write smiles file\n",
        "  with open(ligandpath / 'ligand.smi', 'w') as f:\n",
        "    f.write(smi)\n",
        "\n",
        "  # Prepare ligand file from .smi to .pdbqt\n",
        "  # three different methods\n",
        "  # a) Use the program babel to convert the SMILES into a MOL2 file without any extra work \n",
        "  # (such as searching for best conformers) except for setting the protonation state to pH 7.4, \n",
        "  # and then use MGLtools to parameterize the ligand using Gasteiger partial charges\n",
        "  subprocess.run(['obabel', '/content/ligands/ligand.smi', \n",
        "                  '-O', 'ligand.mol2', '--gen3d', 'best', '-p', '7.4', '--canonical'])\n",
        "  subprocess.run(['prepare_ligand4.py', '-l', 'ligand.mol2', '-o', \n",
        "                  '/content/ligands/ligand.pdbqt', '-U', 'nphs_lps', '-v'])\n",
        "\n",
        "  # Setup AutoDock Vina\n",
        "  v = Vina(sf_name = 'vina')\n",
        "  v.set_receptor('/content/cross-dock/1t5c_prot.pdbqt')\n",
        "  v.set_ligand_from_file('/content/ligands/ligand.pdbqt')\n",
        "  v.compute_vina_maps(center = [centroid.x, centroid.y, centroid.z], \n",
        "                          box_size = [40, 40, 40])\n",
        "\n",
        "  # Dock the ligand\n",
        "  v.dock(exhaustiveness = 24, n_poses = 9)\n",
        "  dock_energy = v.score()\n",
        "  print('Score after docking : %.3f (kcal/mol)' % dock_energy[0])\n",
        "  # v.write_poses(f'1t5c_ligand{id}_vina_out.pdbqt', n_poses = 9, overwrite = True)\n",
        "\n",
        "  # Write compound id, smiles string, and score in score file\n",
        "  s.write(str(mol_id) + ' ' + smi + ' ' + '%.3f\\n' % dock_energy[0] + '\\n')\n",
        "\n",
        "  # Close the file\n",
        "  s.close()"
      ],
      "metadata": {
        "id": "rZ4cgds4Ssyd"
      },
      "execution_count": null,
      "outputs": []
    },
    {
      "cell_type": "code",
      "source": [
        "import multiprocessing\n",
        "with multiprocessing.Pool(os.cpu_count()) as pool:\n",
        "\t# call the function for each item in parallel\n",
        "\tpool.map(docking, mols_info)"
      ],
      "metadata": {
        "colab": {
          "base_uri": "https://localhost:8080/"
        },
        "id": "31wETpjMedNt",
        "outputId": "ccbd13e8-eafc-40a5-b2d5-4096e8661a80"
      },
      "execution_count": null,
      "outputs": [
        {
          "output_type": "stream",
          "name": "stdout",
          "text": [
            "Score after docking : -7.170 (kcal/mol)\n",
            "Score after docking : -6.480 (kcal/mol)\n",
            "Score after docking : -6.519 (kcal/mol)\n",
            "Score after docking : -6.430 (kcal/mol)\n",
            "Score after docking : -6.517 (kcal/mol)\n",
            "Score after docking : -5.984 (kcal/mol)\n",
            "Score after docking : -6.470 (kcal/mol)\n"
          ]
        }
      ]
    }
  ]
}