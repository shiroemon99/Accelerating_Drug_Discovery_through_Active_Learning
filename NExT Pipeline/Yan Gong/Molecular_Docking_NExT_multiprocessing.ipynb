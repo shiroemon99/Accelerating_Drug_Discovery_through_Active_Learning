{
  "nbformat": 4,
  "nbformat_minor": 0,
  "metadata": {
    "colab": {
      "provenance": [],
      "machine_shape": "hm"
    },
    "kernelspec": {
      "name": "python3",
      "display_name": "Python 3"
    },
    "language_info": {
      "name": "python"
    },
    "gpuClass": "premium"
  },
  "cells": [
    {
      "cell_type": "code",
      "execution_count": null,
      "metadata": {
        "id": "P5YI1UB9roJM",
        "colab": {
          "base_uri": "https://localhost:8080/"
        },
        "outputId": "68d4e0e2-6923-48d4-fbcf-121c985ff00b"
      },
      "outputs": [
        {
          "output_type": "stream",
          "name": "stdout",
          "text": [
            "Looking in indexes: https://pypi.org/simple, https://us-python.pkg.dev/colab-wheels/public/simple/\n",
            "Collecting py3Dmol\n",
            "  Downloading py3Dmol-1.8.1-py2.py3-none-any.whl (6.5 kB)\n",
            "Installing collected packages: py3Dmol\n",
            "Successfully installed py3Dmol-1.8.1\n",
            "Looking in indexes: https://pypi.org/simple, https://us-python.pkg.dev/colab-wheels/public/simple/\n",
            "Collecting biopython\n",
            "  Downloading biopython-1.80-cp38-cp38-manylinux_2_17_x86_64.manylinux2014_x86_64.whl (3.1 MB)\n",
            "\u001b[K     |████████████████████████████████| 3.1 MB 19.6 MB/s \n",
            "\u001b[?25hRequirement already satisfied: numpy in /usr/local/lib/python3.8/dist-packages (from biopython) (1.21.6)\n",
            "Installing collected packages: biopython\n",
            "Successfully installed biopython-1.80\n",
            "Looking in indexes: https://pypi.org/simple, https://us-python.pkg.dev/colab-wheels/public/simple/\n",
            "Collecting pdb2pqr\n",
            "  Downloading pdb2pqr-3.5.2-py2.py3-none-any.whl (207 kB)\n",
            "\u001b[K     |████████████████████████████████| 207 kB 28.1 MB/s \n",
            "\u001b[?25hRequirement already satisfied: numpy in /usr/local/lib/python3.8/dist-packages (from pdb2pqr) (1.21.6)\n",
            "Collecting propka>=3.2\n",
            "  Downloading propka-3.4.0-py2.py3-none-any.whl (98 kB)\n",
            "\u001b[K     |████████████████████████████████| 98 kB 9.2 MB/s \n",
            "\u001b[?25hRequirement already satisfied: docutils<0.18 in /usr/local/lib/python3.8/dist-packages (from pdb2pqr) (0.17.1)\n",
            "Requirement already satisfied: requests in /usr/local/lib/python3.8/dist-packages (from pdb2pqr) (2.23.0)\n",
            "Collecting mmcif-pdbx>=1.1.2\n",
            "  Downloading mmcif_pdbx-2.0.1-py2.py3-none-any.whl (20 kB)\n",
            "Requirement already satisfied: certifi>=2017.4.17 in /usr/local/lib/python3.8/dist-packages (from requests->pdb2pqr) (2022.9.24)\n",
            "Requirement already satisfied: idna<3,>=2.5 in /usr/local/lib/python3.8/dist-packages (from requests->pdb2pqr) (2.10)\n",
            "Requirement already satisfied: urllib3!=1.25.0,!=1.25.1,<1.26,>=1.21.1 in /usr/local/lib/python3.8/dist-packages (from requests->pdb2pqr) (1.24.3)\n",
            "Requirement already satisfied: chardet<4,>=3.0.2 in /usr/local/lib/python3.8/dist-packages (from requests->pdb2pqr) (3.0.4)\n",
            "Installing collected packages: propka, mmcif-pdbx, pdb2pqr\n",
            "Successfully installed mmcif-pdbx-2.0.1 pdb2pqr-3.5.2 propka-3.4.0\n",
            "Looking in indexes: https://pypi.org/simple, https://us-python.pkg.dev/colab-wheels/public/simple/\n",
            "Collecting rdkit\n",
            "  Downloading rdkit-2022.9.3-cp38-cp38-manylinux_2_17_x86_64.manylinux2014_x86_64.whl (29.3 MB)\n",
            "\u001b[K     |████████████████████████████████| 29.3 MB 101.8 MB/s \n",
            "\u001b[?25hRequirement already satisfied: numpy in /usr/local/lib/python3.8/dist-packages (from rdkit) (1.21.6)\n",
            "Requirement already satisfied: Pillow in /usr/local/lib/python3.8/dist-packages (from rdkit) (7.1.2)\n",
            "Installing collected packages: rdkit\n",
            "Successfully installed rdkit-2022.9.3\n",
            "Looking in indexes: https://pypi.org/simple, https://us-python.pkg.dev/colab-wheels/public/simple/\n",
            "Collecting vina\n",
            "  Downloading vina-1.2.3-cp38-cp38-manylinux_2_17_x86_64.manylinux2014_x86_64.whl (7.0 MB)\n",
            "\u001b[K     |████████████████████████████████| 7.0 MB 22.5 MB/s \n",
            "\u001b[?25hRequirement already satisfied: numpy>=1.18 in /usr/local/lib/python3.8/dist-packages (from vina) (1.21.6)\n",
            "Installing collected packages: vina\n",
            "Successfully installed vina-1.2.3\n",
            "Looking in indexes: https://pypi.org/simple, https://us-python.pkg.dev/colab-wheels/public/simple/\n",
            "Collecting meeko\n",
            "  Downloading meeko-0.4.0-py3-none-any.whl (108 kB)\n",
            "\u001b[K     |████████████████████████████████| 108 kB 22.9 MB/s \n",
            "\u001b[?25hRequirement already satisfied: numpy>=1.18 in /usr/local/lib/python3.8/dist-packages (from meeko) (1.21.6)\n",
            "Installing collected packages: meeko\n",
            "Successfully installed meeko-0.4.0\n"
          ]
        }
      ],
      "source": [
        "# Install py3Dmol using pip\n",
        "!pip install py3Dmol\n",
        "# Install biopython using pip\n",
        "!pip install biopython\n",
        "# Install pdb2pqr v3.0 using pip\n",
        "!pip install pdb2pqr\n",
        "# We will also install rdkit\n",
        "!pip install rdkit\n",
        "# Install vina usiung pip\n",
        "!pip install vina"
      ]
    },
    {
      "cell_type": "code",
      "source": [
        "#Install conda using the new conda-colab library\n",
        "!pip install -q condacolab\n",
        "import condacolab\n",
        "condacolab.install_miniconda()\n",
        "\n",
        "#Install MGLtools and OpenBabel from\n",
        "#the bioconda repository\n",
        "!conda install -c conda-forge -c bioconda mgltools openbabel zlib --yes"
      ],
      "metadata": {
        "colab": {
          "base_uri": "https://localhost:8080/"
        },
        "id": "pnHjdpoyz_Rn",
        "outputId": "421aadfd-6723-4049-f602-b9fcf2abb69b"
      },
      "execution_count": null,
      "outputs": [
        {
          "output_type": "stream",
          "name": "stdout",
          "text": [
            "⏬ Downloading https://repo.anaconda.com/miniconda/Miniconda3-py38_4.12.0-Linux-x86_64.sh...\n",
            "📦 Installing...\n",
            "📌 Adjusting configuration...\n",
            "🩹 Patching environment...\n",
            "⏲ Done in 0:00:17\n",
            "🔁 Restarting kernel...\n",
            "Collecting package metadata (current_repodata.json): - \b\b\\ \b\b| \b\b/ \b\b- \b\b\\ \b\b| \b\b/ \b\b- \b\b\\ \b\b| \b\b/ \b\b- \b\b\\ \b\b| \b\b/ \b\b- \b\b\\ \b\b| \b\b/ \b\b- \b\b\\ \b\b| \b\b/ \b\b- \b\b\\ \b\b| \b\b/ \b\b- \b\b\\ \b\b| \b\b/ \b\b- \b\b\\ \b\b| \b\b/ \b\b- \b\b\\ \b\b| \b\b/ \b\b- \b\b\\ \b\b| \b\b/ \b\b- \b\b\\ \b\b| \b\b/ \b\b- \b\b\\ \b\b| \b\b/ \b\b- \b\b\\ \b\b| \b\b/ \b\b- \b\b\\ \b\b| \b\b/ \b\b- \b\b\\ \b\b| \b\b/ \b\b- \b\b\\ \b\b| \b\b/ \b\b- \b\b\\ \b\b| \b\b/ \b\b- \b\b\\ \b\b| \b\b/ \b\b- \b\b\\ \b\b| \b\b/ \b\b- \b\b\\ \b\b| \b\b/ \b\b- \b\b\\ \b\b| \b\b/ \b\b- \b\b\\ \b\b| \b\b/ \b\b- \b\b\\ \b\b| \b\b/ \b\b- \b\b\\ \b\b| \b\b/ \b\b- \b\b\\ \b\b| \b\b/ \b\b- \b\b\\ \b\b| \b\b/ \b\b- \b\b\\ \b\b| \b\b/ \b\b- \b\b\\ \b\b| \b\b/ \b\b- \b\b\\ \b\b| \b\b/ \b\b- \b\b\\ \b\b| \b\b/ \b\b- \b\b\\ \b\b| \b\b/ \b\b- \b\b\\ \b\b| \b\b/ \b\b- \b\b\\ \b\b| \b\b/ \b\b- \b\b\\ \b\b| \b\b/ \b\b- \b\b\\ \b\b| \b\b/ \b\b- \b\b\\ \b\b| \b\b/ \b\b- \b\b\\ \b\b| \b\b/ \b\b- \b\b\\ \b\b| \b\b/ \b\b- \b\b\\ \b\b| \b\b/ \b\b- \b\b\\ \b\b| \b\bdone\n",
            "Solving environment: - \b\b\\ \b\b| \b\b/ \b\b- \b\b\\ \b\b| \b\b/ \b\bdone\n",
            "\n",
            "\n",
            "==> WARNING: A newer version of conda exists. <==\n",
            "  current version: 4.12.0\n",
            "  latest version: 22.11.1\n",
            "\n",
            "Please update conda by running\n",
            "\n",
            "    $ conda update -n base -c defaults conda\n",
            "\n",
            "\n",
            "\n",
            "## Package Plan ##\n",
            "\n",
            "  environment location: /usr/local\n",
            "\n",
            "  added / updated specs:\n",
            "    - mgltools\n",
            "    - openbabel\n",
            "    - zlib\n",
            "\n",
            "\n",
            "The following packages will be downloaded:\n",
            "\n",
            "    package                    |            build\n",
            "    ---------------------------|-----------------\n",
            "    ca-certificates-2022.12.7  |       ha878542_0         143 KB  conda-forge\n",
            "    cairo-1.16.0               |       h19f5f5c_2         1.1 MB\n",
            "    certifi-2022.12.7          |     pyhd8ed1ab_0         147 KB  conda-forge\n",
            "    conda-4.14.0               |   py38h578d9bd_0        1012 KB  conda-forge\n",
            "    fontconfig-2.13.1          |       h6c09931_0         250 KB\n",
            "    freetype-2.10.4            |       h0708190_1         890 KB  conda-forge\n",
            "    glib-2.69.1                |       h4ff587b_1         1.7 MB\n",
            "    icu-58.2                   |    hf484d3e_1000        22.6 MB  conda-forge\n",
            "    libpng-1.6.37              |       hbc83047_0         278 KB\n",
            "    libuuid-1.0.3              |       h7f8727e_2          17 KB\n",
            "    libxcb-1.15                |       h7f8727e_0         505 KB\n",
            "    libxml2-2.9.14             |       h74e7548_0         718 KB\n",
            "    mgltools-1.5.7             |       h9ee0642_1       107.0 MB  bioconda\n",
            "    openbabel-3.1.1            |   py38hf4b5c11_1         5.6 MB  conda-forge\n",
            "    openssl-1.1.1s             |       h7f8727e_0         3.6 MB\n",
            "    pcre-8.45                  |       h9c3ff4c_0         253 KB  conda-forge\n",
            "    pixman-0.40.0              |       h36c2ea0_0         627 KB  conda-forge\n",
            "    python_abi-3.8             |           2_cp38           4 KB  conda-forge\n",
            "    toolz-0.12.0               |     pyhd8ed1ab_0          48 KB  conda-forge\n",
            "    zlib-1.2.12                |       h7f8727e_2         106 KB\n",
            "    ------------------------------------------------------------\n",
            "                                           Total:       146.3 MB\n",
            "\n",
            "The following NEW packages will be INSTALLED:\n",
            "\n",
            "  cairo              pkgs/main/linux-64::cairo-1.16.0-h19f5f5c_2\n",
            "  fontconfig         pkgs/main/linux-64::fontconfig-2.13.1-h6c09931_0\n",
            "  freetype           conda-forge/linux-64::freetype-2.10.4-h0708190_1\n",
            "  glib               pkgs/main/linux-64::glib-2.69.1-h4ff587b_1\n",
            "  icu                conda-forge/linux-64::icu-58.2-hf484d3e_1000\n",
            "  libpng             pkgs/main/linux-64::libpng-1.6.37-hbc83047_0\n",
            "  libuuid            pkgs/main/linux-64::libuuid-1.0.3-h7f8727e_2\n",
            "  libxcb             pkgs/main/linux-64::libxcb-1.15-h7f8727e_0\n",
            "  libxml2            pkgs/main/linux-64::libxml2-2.9.14-h74e7548_0\n",
            "  mgltools           bioconda/linux-64::mgltools-1.5.7-h9ee0642_1\n",
            "  openbabel          conda-forge/linux-64::openbabel-3.1.1-py38hf4b5c11_1\n",
            "  pcre               conda-forge/linux-64::pcre-8.45-h9c3ff4c_0\n",
            "  pixman             conda-forge/linux-64::pixman-0.40.0-h36c2ea0_0\n",
            "  python_abi         conda-forge/linux-64::python_abi-3.8-2_cp38\n",
            "  toolz              conda-forge/noarch::toolz-0.12.0-pyhd8ed1ab_0\n",
            "\n",
            "The following packages will be UPDATED:\n",
            "\n",
            "  ca-certificates    pkgs/main::ca-certificates-2022.3.29-~ --> conda-forge::ca-certificates-2022.12.7-ha878542_0\n",
            "  certifi            pkgs/main/linux-64::certifi-2021.10.8~ --> conda-forge/noarch::certifi-2022.12.7-pyhd8ed1ab_0\n",
            "  conda              pkgs/main::conda-4.12.0-py38h06a4308_0 --> conda-forge::conda-4.14.0-py38h578d9bd_0\n",
            "  openssl                                 1.1.1n-h7f8727e_0 --> 1.1.1s-h7f8727e_0\n",
            "  zlib                                    1.2.12-h7f8727e_1 --> 1.2.12-h7f8727e_2\n",
            "\n",
            "\n",
            "\n",
            "Downloading and Extracting Packages\n",
            "ca-certificates-2022 | 143 KB    | : 100% 1.0/1 [00:00<00:00,  6.01it/s]                \n",
            "mgltools-1.5.7       | 107.0 MB  | : 100% 1.0/1 [00:21<00:00, 21.59s/it]              \n",
            "pixman-0.40.0        | 627 KB    | : 100% 1.0/1 [00:00<00:00,  5.99it/s]\n",
            "libxcb-1.15          | 505 KB    | : 100% 1.0/1 [00:00<00:00,  6.70it/s]\n",
            "cairo-1.16.0         | 1.1 MB    | : 100% 1.0/1 [00:00<00:00,  8.32it/s]\n",
            "toolz-0.12.0         | 48 KB     | : 100% 1.0/1 [00:00<00:00, 13.41it/s]\n",
            "zlib-1.2.12          | 106 KB    | : 100% 1.0/1 [00:00<00:00,  9.26it/s]\n",
            "libpng-1.6.37        | 278 KB    | : 100% 1.0/1 [00:00<00:00,  9.05it/s]\n",
            "pcre-8.45            | 253 KB    | : 100% 1.0/1 [00:00<00:00, 11.23it/s]\n",
            "libuuid-1.0.3        | 17 KB     | : 100% 1.0/1 [00:00<00:00, 12.30it/s]\n",
            "freetype-2.10.4      | 890 KB    | : 100% 1.0/1 [00:00<00:00,  4.98it/s]\n",
            "icu-58.2             | 22.6 MB   | : 100% 1.0/1 [00:04<00:00,  4.02s/it]               \n",
            "python_abi-3.8       | 4 KB      | : 100% 1.0/1 [00:00<00:00, 16.89it/s]\n",
            "conda-4.14.0         | 1012 KB   | : 100% 1.0/1 [00:00<00:00,  3.27it/s]\n",
            "openbabel-3.1.1      | 5.6 MB    | : 100% 1.0/1 [00:01<00:00,  1.53s/it]\n",
            "libxml2-2.9.14       | 718 KB    | : 100% 1.0/1 [00:00<00:00,  8.90it/s]\n",
            "fontconfig-2.13.1    | 250 KB    | : 100% 1.0/1 [00:00<00:00, 10.77it/s]\n",
            "openssl-1.1.1s       | 3.6 MB    | : 100% 1.0/1 [00:00<00:00,  6.36it/s]\n",
            "certifi-2022.12.7    | 147 KB    | : 100% 1.0/1 [00:00<00:00,  6.86it/s]\n",
            "glib-2.69.1          | 1.7 MB    | : 100% 1.0/1 [00:00<00:00,  5.35it/s]\n",
            "Preparing transaction: \\ \b\b| \b\b/ \b\b- \b\bdone\n",
            "Verifying transaction: | \b\b/ \b\b- \b\b\\ \b\b| \b\b/ \b\b- \b\b\\ \b\b| \b\b/ \b\b- \b\b\\ \b\bdone\n",
            "Executing transaction: / \b\b- \b\b\\ \b\b| \b\b/ \b\b- \b\b\\ \b\b| \b\b/ \b\b- \b\b\\ \b\b| \b\b/ \b\b- \b\b\\ \b\bdone\n"
          ]
        }
      ]
    },
    {
      "cell_type": "code",
      "source": [
        "import os\n",
        "os.cpu_count()"
      ],
      "metadata": {
        "colab": {
          "base_uri": "https://localhost:8080/"
        },
        "id": "21VsBjYJQ-wS",
        "outputId": "930d5dcb-6ad0-4f2d-e35b-8c908e8991d3"
      },
      "execution_count": null,
      "outputs": [
        {
          "output_type": "execute_result",
          "data": {
            "text/plain": [
              "8"
            ]
          },
          "metadata": {},
          "execution_count": 1
        }
      ]
    },
    {
      "cell_type": "code",
      "source": [
        "#Downloading the PDB files using biopython\n",
        "import os\n",
        "from Bio.PDB import *\n",
        "pdbid = ['1t5c']\n",
        "pdbl = PDBList()\n",
        "for s in pdbid:\n",
        "  pdbl.retrieve_pdb_file(s, pdir='.', file_format =\"pdb\", overwrite=True)\n",
        "  os.rename(\"pdb\"+s+\".ent\", s+\".pdb\")"
      ],
      "metadata": {
        "id": "iOlIjFEg2xNU",
        "colab": {
          "base_uri": "https://localhost:8080/"
        },
        "outputId": "52f48ccf-5f7b-4e5b-cd62-cd7db97283e8"
      },
      "execution_count": null,
      "outputs": [
        {
          "output_type": "stream",
          "name": "stdout",
          "text": [
            "Downloading PDB structure '1t5c'...\n"
          ]
        }
      ]
    },
    {
      "cell_type": "code",
      "source": [
        "#This script will create a folder called \"single-docking\" for our experiment\n",
        "#Then, it will print all \"ATOM\" and \"TER\" lines from a given PDB into a new file\n",
        "\n",
        "#Let's make a folder first. We need to import the os and path library\n",
        "import os\n",
        "from pathlib import Path \n",
        "\n",
        "#Then, we define the path of the folder we want to create.\n",
        "#Notice that the HOME folder for a hosted runtime in colab is /content/\n",
        "crosspath = Path(\"/content/cross-dock/\")\n",
        "\n",
        "#Now, we create the folder using the os.mkdir() command\n",
        "#The if conditional is just to check whether the folder already exists\n",
        "#In which case, python returns an error\n",
        "if os.path.exists(crosspath):\n",
        "  print(\"path already exists\")\n",
        "if not os.path.exists(crosspath):\n",
        "  os.mkdir(crosspath)\n",
        "  print(\"path was succesfully created\")\n",
        "\n",
        "#Now we assign a variable \"protein\" with the name and extension of our pdb\n",
        "protein = \"1t5c.pdb\"\n",
        "\n",
        "#And we use the following script to selectively print the lines that contain the\n",
        "#string \"ATOM\" and \"TER\" into a new file inside our recently created folder\n",
        "with open(crosspath / \"1t5c_prot.pdb\",\"w\") as g:\n",
        "  f = open(protein,'r')\n",
        "  for line in f:\n",
        "    row = line.split()\n",
        "    if row[0] == \"ATOM\": # and row[4] == \"A\":\n",
        "      g.write(line)\n",
        "    elif row[0] == \"TER\":\n",
        "      g.write(\"TER\\n\")\n",
        "  g.write(\"END\")\n",
        "  print(\"file successfully created\")"
      ],
      "metadata": {
        "id": "2Y70HjLf5VpM",
        "colab": {
          "base_uri": "https://localhost:8080/"
        },
        "outputId": "3ef013b0-6b21-4f8c-ba59-13cc87107b76"
      },
      "execution_count": null,
      "outputs": [
        {
          "output_type": "stream",
          "name": "stdout",
          "text": [
            "path was succesfully created\n",
            "file successfully created\n"
          ]
        }
      ]
    },
    {
      "cell_type": "code",
      "source": [
        "#Let's make a folder first. We need to import the os and path library\n",
        "import os\n",
        "from pathlib import Path\n",
        "\n",
        "#We will first create a path for all ligands that we will use in this tutorial\n",
        "#Notice that the HOME folder for a hosted runtime in colab is /content/\n",
        "ligandpath = Path(\"/content/ligands/\")\n",
        "\n",
        "#Now, we create the folder using the os.mkdir() command\n",
        "#The if conditional is just to check whether the folder already exists\n",
        "#In which case, python returns an error\n",
        "if os.path.exists(ligandpath):\n",
        "  print(\"ligand path already exists\")\n",
        "if not os.path.exists(ligandpath):\n",
        "  os.mkdir(ligandpath)\n",
        "  print(\"ligand path was succesfully created\")"
      ],
      "metadata": {
        "colab": {
          "base_uri": "https://localhost:8080/"
        },
        "id": "zrKnBOltCZa0",
        "outputId": "d0c99ec7-cd17-46d4-9820-040ab9dc6c58"
      },
      "execution_count": null,
      "outputs": [
        {
          "output_type": "stream",
          "name": "stdout",
          "text": [
            "ligand path was succesfully created\n"
          ]
        }
      ]
    },
    {
      "cell_type": "code",
      "source": [
        "#Downloading NExT 3500 diversity library from uploaded file in sdf format\n",
        "from google.colab import drive\n",
        "drive.mount('/content/drive')\n",
        "\n",
        "# Test code\n",
        "# !cp 'drive/MyDrive/test.sdf' $ligandpath\n",
        "\n",
        "!cp 'drive/MyDrive/multiprocessing_test.sdf' $ligandpath"
      ],
      "metadata": {
        "colab": {
          "base_uri": "https://localhost:8080/"
        },
        "id": "A4ud1NztCclR",
        "outputId": "6bc03132-f0f7-42e7-ea13-c0e6ee29eafd"
      },
      "execution_count": null,
      "outputs": [
        {
          "output_type": "stream",
          "name": "stdout",
          "text": [
            "Mounted at /content/drive\n",
            "/bin/bash: /usr/local/lib/libtinfo.so.5: no version information available (required by /bin/bash)\n"
          ]
        }
      ]
    },
    {
      "cell_type": "code",
      "source": [
        "# Prepare the protein and ligands\n",
        "import subprocess\n",
        "\n",
        "# subprocess.run(['prepare_receptor4.py', '-r', '/content/cross-dock/1t5c_prot.pdb', \n",
        "#                 '-o', '/content/cross-dock/1t5c_prot.pdbqt', \n",
        "#                 '-A', 'hydrogens', '-U', 'nphs_lps', '-v'])    # causing unknown parsing error\n",
        "# subprocess.call(f'prepare_receptor4.py -r /content/cross-dock/1t5c_prot.pdb \n",
        "#                   -o /content/cross-dock/1t5c_prot.pdbqt -A hydrogens -U nphs_lps -v', \n",
        "#                 shell = True)    # old version\n",
        "subprocess.run(['pdb2pqr30', '--ff', 'AMBER', '--keep-chain', \n",
        "                '--titration-state-method', \n",
        "                'propka', '--with-ph', '7.4', \n",
        "                '/content/cross-dock/1t5c_prot.pdb', \n",
        "                '/content/cross-dock/1t5c_prot.pqr'])\n",
        "subprocess.run(['prepare_receptor4.py', '-r', '/content/cross-dock/1t5c_prot.pqr', \n",
        "                '-o', '/content/cross-dock/1t5c_prot.pdbqt', '-C', '-U', 'nphs_lps', '-v'])"
      ],
      "metadata": {
        "id": "jWuBf3fT5YyN",
        "colab": {
          "base_uri": "https://localhost:8080/"
        },
        "outputId": "af32142a-6337-4066-e719-703c2dedac2c"
      },
      "execution_count": null,
      "outputs": [
        {
          "output_type": "execute_result",
          "data": {
            "text/plain": [
              "CompletedProcess(args=['prepare_receptor4.py', '-r', '/content/cross-dock/1t5c_prot.pqr', '-o', '/content/cross-dock/1t5c_prot.pdbqt', '-C', '-U', 'nphs_lps', '-v'], returncode=0)"
            ]
          },
          "metadata": {},
          "execution_count": 6
        }
      ]
    },
    {
      "cell_type": "code",
      "source": [
        "from rdkit import Chem\n",
        "\n",
        "# Import sdf file\n",
        "sdf_path = \"/content/ligands/multiprocessing_test.sdf\"\n",
        "# sdf_path = \"/content/ligands/Diversity_3500_Library_modified.sdf\"\n",
        "\n",
        "# Read sdf by rdkit\n",
        "suppl = Chem.SDMolSupplier(sdf_path, removeHs = False)\n",
        "mols_info = []\n",
        "for mol in suppl:\n",
        "  mol_id = mol.GetProp('COMPOUND_ID')\n",
        "  smi = mol.GetProp('SMILES')\n",
        "  mols_info.append([mol, mol_id, smi])"
      ],
      "metadata": {
        "id": "d-RRtX6sU2Rs"
      },
      "execution_count": null,
      "outputs": []
    },
    {
      "cell_type": "code",
      "source": [
        "from vina import Vina\n",
        "from rdkit.Chem.rdMolTransforms import ComputeCentroid\n",
        "\n",
        "s = open(\"/content/scores.txt\", \"w\")\n",
        "\n",
        "# Cross docking function\n",
        "def docking(mol_info):\n",
        "\n",
        "  # Get process info\n",
        "  curr_proc = multiprocessing.current_process()\n",
        "  proc_id = curr_proc.name\n",
        "\n",
        "  s = open(\"/content/scores.txt\", \"a\")\n",
        "\n",
        "  # Acquire mol data and compute centroid of ligand compound\n",
        "  mol = mol_info[0]\n",
        "  centroid = ComputeCentroid(mol.GetConformer())\n",
        "\n",
        "  # Acquire compound id and smiles string\n",
        "  mol_id = mol_info[1]\n",
        "  smi = mol_info[2]\n",
        "\n",
        "  # Write smiles file\n",
        "  with open(ligandpath / f'ligand{proc_id}.smi', 'w') as f:\n",
        "    f.write(smi)\n",
        "\n",
        "  # Prepare ligand file from .smi to .pdbqt\n",
        "  # three different methods\n",
        "  # a) Use the program babel to convert the SMILES into a MOL2 file without any extra work \n",
        "  # (such as searching for best conformers) except for setting the protonation state to pH 7.4, \n",
        "  # and then use MGLtools to parameterize the ligand using Gasteiger partial charges\n",
        "  subprocess.run(['obabel', f'/content/ligands/ligand{proc_id}.smi', \n",
        "                  '-O', f'ligand{proc_id}.mol2', '--gen3d', 'best', '-p', '7.4', '--canonical'])\n",
        "  subprocess.run(['prepare_ligand4.py', '-l', f'ligand{proc_id}.mol2', '-o', \n",
        "                  f'/content/ligands/ligand{proc_id}.pdbqt', '-U', 'nphs_lps', '-v'])\n",
        "  os.remove(f'ligand{proc_id}.mol2')\n",
        "\n",
        "  # Setup AutoDock Vina\n",
        "  v = Vina(sf_name = 'vina')\n",
        "  v.set_receptor('/content/cross-dock/1t5c_prot.pdbqt')\n",
        "  v.set_ligand_from_file(f'/content/ligands/ligand{proc_id}.pdbqt')\n",
        "  v.compute_vina_maps(center = [centroid.x, centroid.y, centroid.z], \n",
        "                          box_size = [30, 30, 30])\n",
        "\n",
        "  # Dock the ligand\n",
        "  v.dock(exhaustiveness = 24, n_poses = 9)\n",
        "  dock_energy = v.score()\n",
        "  print('Score after docking : %.3f (kcal/mol)' % dock_energy[0])\n",
        "  # v.write_poses(f'1t5c_ligand{id}_vina_out.pdbqt', n_poses = 9, overwrite = True)\n",
        "\n",
        "  # Write compound id, smiles string, and score in score file\n",
        "  s.write(str(mol_id) + ' ' + smi + ' ' + '%.3f\\n' % dock_energy[0])\n",
        "\n",
        "  # Remove .smi and .pdbqt files\n",
        "  os.remove(f'/content/ligands/ligand{proc_id}.smi')\n",
        "  os.remove(f'/content/ligands/ligand{proc_id}.pdbqt')\n",
        "\n",
        "  # Close the file\n",
        "  s.close()"
      ],
      "metadata": {
        "id": "rZ4cgds4Ssyd"
      },
      "execution_count": null,
      "outputs": []
    },
    {
      "cell_type": "code",
      "source": [
        "import multiprocessing\n",
        "with multiprocessing.Pool(processes = 8) as pool:\n",
        "\t# call the function for each item in parallel\n",
        "\tpool.map(docking, mols_info)"
      ],
      "metadata": {
        "colab": {
          "base_uri": "https://localhost:8080/"
        },
        "id": "31wETpjMedNt",
        "outputId": "4252e711-d220-4e34-e19a-9fd1f22da401"
      },
      "execution_count": null,
      "outputs": [
        {
          "output_type": "stream",
          "name": "stdout",
          "text": [
            "Score after docking : -6.330 (kcal/mol)\n",
            "Score after docking : -5.932 (kcal/mol)\n",
            "Score after docking : -7.641 (kcal/mol)\n",
            "Score after docking : -6.202 (kcal/mol)\n",
            "Score after docking : -6.512 (kcal/mol)\n",
            "Score after docking : -7.066 (kcal/mol)\n",
            "Score after docking : -6.995 (kcal/mol)\n",
            "Score after docking : -7.230 (kcal/mol)\n",
            "Score after docking : -6.156 (kcal/mol)\n",
            "Score after docking : -7.547 (kcal/mol)\n",
            "Score after docking : -7.467 (kcal/mol)\n",
            "Score after docking : -6.811 (kcal/mol)\n",
            "Score after docking : -6.845 (kcal/mol)\n",
            "Score after docking : -6.193 (kcal/mol)\n"
          ]
        }
      ]
    }
  ]
}